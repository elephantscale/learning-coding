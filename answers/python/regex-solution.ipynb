{
 "cells": [
  {
   "cell_type": "markdown",
   "metadata": {},
   "source": [
    "# Regex solution\n",
    "\n",
    "- https://www.tutorialspoint.com/python/python_reg_expressions.htm"
   ]
  },
  {
   "cell_type": "markdown",
   "metadata": {},
   "source": [
    "## Easy - A"
   ]
  },
  {
   "cell_type": "markdown",
   "metadata": {},
   "source": [
    "### A1:  Determine if a string has any numbers in it?\n",
    "'hello123' -> yes\n",
    "'abc' --> no"
   ]
  },
  {
   "cell_type": "code",
   "execution_count": 1,
   "metadata": {},
   "outputs": [
    {
     "name": "stdout",
     "output_type": "stream",
     "text": [
      "String has any numbers?\n",
      "hello : NO\n",
      "123 :  YES\n",
      "hello123 :  YES\n",
      "hi 1 :  YES\n"
     ]
    }
   ],
   "source": [
    "import re\n",
    "\n",
    "pattern = r'\\d'\n",
    "re.search(pattern, \"hi12\")\n",
    "\n",
    "print (\"String has any numbers?\")\n",
    "for s in ['hello', '123', 'hello123', 'hi 1']:\n",
    "    if re.search(pattern, s):\n",
    "        print(s  ,\":  YES\")\n",
    "    else:\n",
    "        print (s, \": NO\")"
   ]
  },
  {
   "cell_type": "markdown",
   "metadata": {},
   "source": [
    "### A2 : Determine if a string has only alpha-numeric characters (a..z or 0-9)"
   ]
  },
  {
   "cell_type": "code",
   "execution_count": 2,
   "metadata": {},
   "outputs": [
    {
     "name": "stdout",
     "output_type": "stream",
     "text": [
      "string has only ALPHA-NUM charectors?\n",
      "hello : YES\n",
      "123 : YES\n",
      "hello123 : YES\n",
      "hi! : NO\n",
      "$@# : NO\n",
      " : YES\n"
     ]
    }
   ],
   "source": [
    "import re\n",
    "\n",
    "pattern = r'^[a-zA-Z0-9]*$'\n",
    "re.search(pattern, \"xyz\")\n",
    "\n",
    "print (\"string has only ALPHA-NUM charectors?\")\n",
    "for s in ['hello', '123', 'hello123', 'hi!', '$@#', '']:\n",
    "    if re.search(pattern, s):\n",
    "        print(s  ,\": YES\")\n",
    "    else:\n",
    "        print (s, \": NO\")"
   ]
  },
  {
   "cell_type": "markdown",
   "metadata": {},
   "source": [
    "## B - Medium\n",
    "\n",
    "### B1: check if a string is a valid phone number.\n",
    "For simplicity let's assume a valid phone number has the format of xxx-xxx-xxxx  \n"
   ]
  },
  {
   "cell_type": "code",
   "execution_count": 3,
   "metadata": {},
   "outputs": [
    {
     "name": "stdout",
     "output_type": "stream",
     "text": [
      "is valid phone number (xxx-xxx-xxxx) ?\n",
      " : NO\n",
      "123 : NO\n",
      "123-456 : NO\n",
      "123-456-7890 : YES\n",
      "1234567890 : NO\n",
      "xxx-xxx-xxxx : NO\n"
     ]
    }
   ],
   "source": [
    "import re\n",
    "\n",
    "pattern = r'^[\\d]{3}-[\\d]{3}-[\\d]{4}$'\n",
    "re.search(pattern, \"650-123-4567\")\n",
    "\n",
    "print (\"is valid phone number (xxx-xxx-xxxx) ?\")\n",
    "for s in ['', '123', '123-456', '123-456-7890', '1234567890', 'xxx-xxx-xxxx']:\n",
    "    if re.search(pattern, s):\n",
    "        print(s  ,\": YES\")\n",
    "    else:\n",
    "        print (s, \": NO\")"
   ]
  },
  {
   "cell_type": "markdown",
   "metadata": {},
   "source": [
    "### B2: Check if a string is a valid email\n",
    "- An email has the format  of    USER@DOMAIN.EXTENSION.   \n",
    "- Valid characters for USER are any alpha numberic character (a-z 0-9) and dash(-) and underscore ( _ ) and dot (.) \n",
    "- Valid characters for DOMAIN are any alpha numberic character (a-z 0-9) and dash(-) and underscore ( _ )\n",
    "- Valid characters for EXTENSION is only alpha characters"
   ]
  },
  {
   "cell_type": "code",
   "execution_count": 4,
   "metadata": {},
   "outputs": [
    {
     "name": "stdout",
     "output_type": "stream",
     "text": [
      "is valid email (user@domain.ext) ?\n",
      " : NO\n",
      "u1@gmail.com : YES\n",
      "a.b@yahoo-inc.com : YES\n",
      "x@y.com123 : NO\n",
      "x_y@hotmail.com : YES\n"
     ]
    }
   ],
   "source": [
    "import re\n",
    "\n",
    "pattern = r'^[a-zA-Z0-9-_.]+@[a-zA-Z0-9-_]+.[a-zA-Z]+$'\n",
    "re.search(pattern, \"user@gmail.com\")\n",
    "\n",
    "print (\"is valid email (user@domain.ext) ?\")\n",
    "for s in ['', 'u1@gmail.com', 'a.b@yahoo-inc.com',  'x@y.com123', 'x_y@hotmail.com']:\n",
    "    if re.search(pattern, s):\n",
    "        print(s  ,\": YES\")\n",
    "    else:\n",
    "        print (s, \": NO\")"
   ]
  },
  {
   "cell_type": "markdown",
   "metadata": {
    "collapsed": true
   },
   "source": [
    "### B3 : Extract all phone numbers from  string\n",
    "Build on above solution.  \n",
    "You need to extract and print all phone numbers.\n",
    "\n",
    "e.g.  \n",
    "input:   \n",
    "\"hello, our customer service number is 800-123-456.  For press inquiries 877-123-4567\"\n",
    "\n",
    "output:\n",
    "- 800-123-456\n",
    "- 877-123-4567\n"
   ]
  },
  {
   "cell_type": "code",
   "execution_count": 5,
   "metadata": {},
   "outputs": [
    {
     "name": "stdout",
     "output_type": "stream",
     "text": [
      "800-123-4567\n",
      "877-123-4567\n"
     ]
    }
   ],
   "source": [
    "import re\n",
    "\n",
    "pattern = r'\\d{3}-\\d{3}-\\d{4}'\n",
    "re.search(pattern, \"650-123-4567\")\n",
    "\n",
    "text='''hello, our customer service number is 800-123-4567.\n",
    "For press inquiries call 877-123-4567.\n",
    "'''\n",
    "\n",
    "matches = re.findall(pattern, text, flags=0)\n",
    "for m in matches:\n",
    "    print(m)\n",
    "        "
   ]
  },
  {
   "cell_type": "markdown",
   "metadata": {},
   "source": [
    "### B4 : Extract username and DOMAIN name from emails in text\n",
    "Input:  \n",
    "\"work email is user1@company.com  and personal email is user2@gmail.com\"\n",
    "\n",
    "Output:   \n",
    "- email1 : user1@company.com\n",
    "    - user : user1\n",
    "    - domain : company.com\n",
    "- email2 : user2@gmail.com\n",
    "    - user : user2\n",
    "    - domain : gmail.com\n"
   ]
  },
  {
   "cell_type": "code",
   "execution_count": 6,
   "metadata": {},
   "outputs": [
    {
     "name": "stdout",
     "output_type": "stream",
     "text": [
      "matches found\n",
      "1 match: user1@company.com\n",
      "user: user1\n",
      "domain: company.com\n",
      "\n",
      "2 match: user2@gmail.com\n",
      "user: user2\n",
      "domain: gmail.com\n",
      "\n"
     ]
    }
   ],
   "source": [
    "import re\n",
    "\n",
    "# using grouping\n",
    "pattern =  r'([a-zA-Z0-9-_.]+)@([a-zA-Z0-9-_]+.[a-zA-Z]+)'\n",
    "\n",
    "text = \"work email is user1@company.com  and personal email is user2@gmail.com\"\n",
    "\n",
    "matches = re.finditer(pattern, text)\n",
    "if matches:\n",
    "    print(\"matches found\")\n",
    "    i=0\n",
    "    for match in matches:\n",
    "        i+=1\n",
    "        print (i, \"match:\", match.group(0))\n",
    "        print (\"user:\" , match.group(1))\n",
    "        print (\"domain:\", match.group(2))\n",
    "        print()\n",
    "else:\n",
    "    print(\"no mathces\")"
   ]
  },
  {
   "cell_type": "code",
   "execution_count": null,
   "metadata": {
    "collapsed": true
   },
   "outputs": [],
   "source": []
  }
 ],
 "metadata": {
  "kernelspec": {
   "display_name": "Python 3",
   "language": "python",
   "name": "python3"
  },
  "language_info": {
   "codemirror_mode": {
    "name": "ipython",
    "version": 3
   },
   "file_extension": ".py",
   "mimetype": "text/x-python",
   "name": "python",
   "nbconvert_exporter": "python",
   "pygments_lexer": "ipython3",
   "version": "3.6.3"
  }
 },
 "nbformat": 4,
 "nbformat_minor": 2
}
