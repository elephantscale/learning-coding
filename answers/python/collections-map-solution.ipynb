{
 "cells": [
  {
   "cell_type": "markdown",
   "metadata": {},
   "source": [
    "# Collections - Map : Solutions"
   ]
  },
  {
   "cell_type": "markdown",
   "metadata": {},
   "source": [
    "### A1  - Create a map `m1` with following contents"
   ]
  },
  {
   "cell_type": "code",
   "execution_count": 1,
   "metadata": {},
   "outputs": [],
   "source": [
    "m1 = {'a' : 2, 'c' : 5,'b' : 1,  'd': 3}\n"
   ]
  },
  {
   "cell_type": "markdown",
   "metadata": {},
   "source": [
    "### A2 - Loop through a map and print all key value pairs "
   ]
  },
  {
   "cell_type": "code",
   "execution_count": 2,
   "metadata": {},
   "outputs": [
    {
     "name": "stdout",
     "output_type": "stream",
     "text": [
      "{'a': 2, 'c': 5, 'b': 1, 'd': 3}\n",
      "\n",
      "dict_items([('a', 2), ('c', 5), ('b', 1), ('d', 3)])\n",
      "\n",
      "a -> 2\n",
      "c -> 5\n",
      "b -> 1\n",
      "d -> 3\n",
      "\n",
      "a -> 2\n",
      "c -> 5\n",
      "b -> 1\n",
      "d -> 3\n",
      "\n"
     ]
    }
   ],
   "source": [
    "print(m1)\n",
    "print()\n",
    "\n",
    "print(m1.items())\n",
    "print()\n",
    "\n",
    "for k in m1.keys():\n",
    "    print (\"{} -> {}\".format (k, m1[k]))\n",
    "print()\n",
    "    \n",
    "for k,v in m1.items():\n",
    "    print (\"{} -> {}\".format (k,v))\n",
    "print()"
   ]
  },
  {
   "cell_type": "markdown",
   "metadata": {},
   "source": [
    "### A3 - given a key, get value"
   ]
  },
  {
   "cell_type": "code",
   "execution_count": 3,
   "metadata": {},
   "outputs": [
    {
     "name": "stdout",
     "output_type": "stream",
     "text": [
      "2\n",
      "2\n",
      "None\n"
     ]
    }
   ],
   "source": [
    "# use [key] or get(key)\n",
    "print(m1['a'])\n",
    "print(m1.get('a'))\n",
    "print(m1.get('x'))"
   ]
  },
  {
   "cell_type": "markdown",
   "metadata": {},
   "source": [
    "### A4 - add a KV to map"
   ]
  },
  {
   "cell_type": "code",
   "execution_count": 4,
   "metadata": {},
   "outputs": [
    {
     "name": "stdout",
     "output_type": "stream",
     "text": [
      "{'a': 2, 'c': 5, 'b': 1, 'd': 3, 'e': 4}\n"
     ]
    }
   ],
   "source": [
    "m1['e'] = 4\n",
    "print(m1)"
   ]
  },
  {
   "cell_type": "markdown",
   "metadata": {},
   "source": [
    "### A5 - print all keys of a map"
   ]
  },
  {
   "cell_type": "code",
   "execution_count": 5,
   "metadata": {},
   "outputs": [
    {
     "name": "stdout",
     "output_type": "stream",
     "text": [
      "dict_keys(['a', 'c', 'b', 'd', 'e'])\n",
      "a\n",
      "c\n",
      "b\n",
      "d\n",
      "e\n"
     ]
    }
   ],
   "source": [
    "print(m1.keys())\n",
    "for k in m1.keys():\n",
    "    print(k)"
   ]
  },
  {
   "cell_type": "markdown",
   "metadata": {},
   "source": [
    "### A6 - print all values of map"
   ]
  },
  {
   "cell_type": "code",
   "execution_count": 6,
   "metadata": {},
   "outputs": [
    {
     "name": "stdout",
     "output_type": "stream",
     "text": [
      "dict_values([2, 5, 1, 3, 4])\n",
      "2\n",
      "5\n",
      "1\n",
      "3\n",
      "4\n"
     ]
    }
   ],
   "source": [
    "print(m1.values())\n",
    "for v in m1.values():\n",
    "    print(v)"
   ]
  },
  {
   "cell_type": "markdown",
   "metadata": {},
   "source": [
    "### A7 - print a map, sorted by key"
   ]
  },
  {
   "cell_type": "code",
   "execution_count": 7,
   "metadata": {},
   "outputs": [
    {
     "name": "stdout",
     "output_type": "stream",
     "text": [
      "a -> 2\n",
      "b -> 1\n",
      "c -> 5\n",
      "d -> 3\n",
      "e -> 4\n"
     ]
    }
   ],
   "source": [
    "sorted(m1.keys())\n",
    "\n",
    "for k in sorted(m1.keys()):\n",
    "    print( \"{} -> {}\".format(k,m1[k]))"
   ]
  },
  {
   "cell_type": "markdown",
   "metadata": {},
   "source": [
    "### A8 - print a map sorted by values both ascending / descending"
   ]
  },
  {
   "cell_type": "code",
   "execution_count": 8,
   "metadata": {},
   "outputs": [
    {
     "name": "stdout",
     "output_type": "stream",
     "text": [
      "[('b', 1), ('a', 2), ('d', 3), ('e', 4), ('c', 5)]\n",
      "[('c', 5), ('e', 4), ('d', 3), ('a', 2), ('b', 1)]\n"
     ]
    }
   ],
   "source": [
    "# returns a sorted list\n",
    "sorted_list = sorted(m1.items(),  key = lambda x: x[1])\n",
    "print(sorted_list)\n",
    "\n",
    "sorted_list_desc = sorted(m1.items(),  key = lambda x: x[1], reverse=True)\n",
    "print(sorted_list_desc)"
   ]
  },
  {
   "cell_type": "markdown",
   "metadata": {},
   "source": [
    "### A9 - check if given key is in map"
   ]
  },
  {
   "cell_type": "code",
   "execution_count": 9,
   "metadata": {},
   "outputs": [
    {
     "name": "stdout",
     "output_type": "stream",
     "text": [
      "key 'a' exists\n",
      "key 'x' is not in map\n"
     ]
    }
   ],
   "source": [
    "if 'a' in m1:\n",
    "    print(\"key 'a' exists\")\n",
    "    \n",
    "if 'x' not in m1.keys():\n",
    "    print (\"key 'x' is not in map\")"
   ]
  },
  {
   "cell_type": "markdown",
   "metadata": {},
   "source": [
    "### A10 - dictionary with default value"
   ]
  },
  {
   "cell_type": "code",
   "execution_count": 10,
   "metadata": {},
   "outputs": [
    {
     "name": "stdout",
     "output_type": "stream",
     "text": [
      "2\n",
      "None\n",
      "-1\n",
      "10\n",
      "default\n"
     ]
    }
   ],
   "source": [
    "# use get method\n",
    "print(m1.get('a'))  # existing\n",
    "print(m1.get('x'))  # non-existing\n",
    "print(m1.get('x', -1))  # non-existing with default value\n",
    "\n",
    "# use defaultdict\n",
    "from collections import defaultdict\n",
    "m2 = defaultdict(lambda: \"default\", key=\"default value\")\n",
    "m2['a'] = 10\n",
    "print(m2['a'])\n",
    "print(m2['x'])"
   ]
  },
  {
   "cell_type": "code",
   "execution_count": null,
   "metadata": {
    "collapsed": true
   },
   "outputs": [],
   "source": []
  }
 ],
 "metadata": {
  "kernelspec": {
   "display_name": "Python 3",
   "language": "python",
   "name": "python3"
  },
  "language_info": {
   "codemirror_mode": {
    "name": "ipython",
    "version": 3
   },
   "file_extension": ".py",
   "mimetype": "text/x-python",
   "name": "python",
   "nbconvert_exporter": "python",
   "pygments_lexer": "ipython3",
   "version": "3.6.3"
  }
 },
 "nbformat": 4,
 "nbformat_minor": 2
}
