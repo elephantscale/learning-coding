{
 "cells": [
  {
   "cell_type": "markdown",
   "metadata": {},
   "source": [
    "# String Solutions - Python\n",
    "\n",
    "## Easy"
   ]
  },
  {
   "cell_type": "markdown",
   "metadata": {},
   "source": [
    "### A1 - define an empty string"
   ]
  },
  {
   "cell_type": "code",
   "execution_count": 1,
   "metadata": {},
   "outputs": [
    {
     "name": "stdout",
     "output_type": "stream",
     "text": [
      "\n"
     ]
    }
   ],
   "source": [
    "e = \"\"\n",
    "print(e)"
   ]
  },
  {
   "cell_type": "markdown",
   "metadata": {},
   "source": [
    "### A2 - create string 'hello world'"
   ]
  },
  {
   "cell_type": "code",
   "execution_count": 2,
   "metadata": {},
   "outputs": [
    {
     "name": "stdout",
     "output_type": "stream",
     "text": [
      "hello world\n"
     ]
    }
   ],
   "source": [
    "s1 = 'hello world'\n",
    "s1 = \"hello world\"\n",
    "print(s1)"
   ]
  },
  {
   "cell_type": "markdown",
   "metadata": {},
   "source": [
    "### A3 - print length of `s1`"
   ]
  },
  {
   "cell_type": "code",
   "execution_count": 3,
   "metadata": {},
   "outputs": [
    {
     "name": "stdout",
     "output_type": "stream",
     "text": [
      "11\n"
     ]
    }
   ],
   "source": [
    "s1 = 'hello world'\n",
    "print (len(s1))"
   ]
  },
  {
   "cell_type": "markdown",
   "metadata": {},
   "source": [
    "### A4 - slicing : print first 3 chars in 'hello world'"
   ]
  },
  {
   "cell_type": "code",
   "execution_count": 4,
   "metadata": {},
   "outputs": [
    {
     "name": "stdout",
     "output_type": "stream",
     "text": [
      "hel\n"
     ]
    }
   ],
   "source": [
    "s1 = 'hello world'\n",
    "# slicing [begin:end:step]\n",
    "print(s1[0:3])"
   ]
  },
  {
   "cell_type": "markdown",
   "metadata": {},
   "source": [
    "### A5 - slicing : print last 2 chars in 'hello world'"
   ]
  },
  {
   "cell_type": "code",
   "execution_count": 5,
   "metadata": {},
   "outputs": [
    {
     "name": "stdout",
     "output_type": "stream",
     "text": [
      "ld\n"
     ]
    }
   ],
   "source": [
    "s1 = 'hello world'\n",
    "# slicing [begin:end:step]\n",
    "print(s1[-2:])"
   ]
  },
  {
   "cell_type": "markdown",
   "metadata": {},
   "source": [
    "### A6 - slicing : print characters at from position 2 to 4 in 'hello world'"
   ]
  },
  {
   "cell_type": "code",
   "execution_count": 6,
   "metadata": {},
   "outputs": [
    {
     "name": "stdout",
     "output_type": "stream",
     "text": [
      "llo\n"
     ]
    }
   ],
   "source": [
    "s1 = 'hello world'\n",
    "# slicing [begin:end:step]\n",
    "print(s1[2:4+1])"
   ]
  },
  {
   "cell_type": "markdown",
   "metadata": {},
   "source": [
    "### A7 - reverse a string"
   ]
  },
  {
   "cell_type": "code",
   "execution_count": 7,
   "metadata": {},
   "outputs": [
    {
     "name": "stdout",
     "output_type": "stream",
     "text": [
      "dlrow olleh\n"
     ]
    }
   ],
   "source": [
    "s1 = 'hello world'\n",
    "print(s1[::-1])"
   ]
  },
  {
   "cell_type": "markdown",
   "metadata": {},
   "source": [
    "### A8 - iterate through a string"
   ]
  },
  {
   "cell_type": "code",
   "execution_count": 8,
   "metadata": {},
   "outputs": [
    {
     "name": "stdout",
     "output_type": "stream",
     "text": [
      "h\n",
      "e\n",
      "l\n",
      "l\n",
      "o\n",
      " \n",
      "w\n",
      "o\n",
      "r\n",
      "l\n",
      "d\n"
     ]
    }
   ],
   "source": [
    "s1 = \"hello world\"\n",
    "for c in s1:\n",
    "    print(c)"
   ]
  },
  {
   "cell_type": "markdown",
   "metadata": {},
   "source": [
    "### A9 - create a multiline string as follows"
   ]
  },
  {
   "cell_type": "code",
   "execution_count": 9,
   "metadata": {},
   "outputs": [
    {
     "name": "stdout",
     "output_type": "stream",
     "text": [
      "hello world\n",
      "good bye\n",
      "cruel world!\n"
     ]
    }
   ],
   "source": [
    "# use \"\"\" \"\"\"\n",
    "s1  = \"\"\"hello world\n",
    "good bye\n",
    "cruel world!\"\"\"\n",
    "print(s1)"
   ]
  },
  {
   "cell_type": "markdown",
   "metadata": {},
   "source": [
    "### A10 - convert string 'Hello World' to lower case / upper case"
   ]
  },
  {
   "cell_type": "code",
   "execution_count": 10,
   "metadata": {},
   "outputs": [
    {
     "name": "stdout",
     "output_type": "stream",
     "text": [
      "hello world\n",
      "HELLO WORLD\n"
     ]
    }
   ],
   "source": [
    "s1 = \"Hello World\"\n",
    "print (s1.lower())\n",
    "print (s1.upper())"
   ]
  },
  {
   "cell_type": "markdown",
   "metadata": {},
   "source": [
    "### A11 - trim white spaces front & back of the string '  hello world  '  (result is : 'hello world')"
   ]
  },
  {
   "cell_type": "code",
   "execution_count": 11,
   "metadata": {},
   "outputs": [
    {
     "name": "stdout",
     "output_type": "stream",
     "text": [
      "[Hello world]\n"
     ]
    }
   ],
   "source": [
    "s1 = \"  Hello world  \"\n",
    "print(\"[\" + s1.strip() + \"]\")"
   ]
  },
  {
   "cell_type": "markdown",
   "metadata": {},
   "source": [
    "### A12 - find the index of 'world' in 'hello world'"
   ]
  },
  {
   "cell_type": "code",
   "execution_count": 12,
   "metadata": {},
   "outputs": [
    {
     "name": "stdout",
     "output_type": "stream",
     "text": [
      "6\n",
      "6\n"
     ]
    }
   ],
   "source": [
    "s1 = \"Hello World\"\n",
    "print(s1.index(\"World\")) # this will rise an exception if not found\n",
    "print (s1.find('World'))"
   ]
  },
  {
   "cell_type": "markdown",
   "metadata": {},
   "source": [
    "### A13 - Find if 'llo' is a substring of string 'hello world'"
   ]
  },
  {
   "cell_type": "code",
   "execution_count": 13,
   "metadata": {},
   "outputs": [
    {
     "name": "stdout",
     "output_type": "stream",
     "text": [
      "yes\n"
     ]
    }
   ],
   "source": [
    "s1 = \"hello world\"\n",
    "if 'llo' in s1:\n",
    "    print(\"yes\")"
   ]
  },
  {
   "cell_type": "markdown",
   "metadata": {},
   "source": [
    "### A14 - combine two strings"
   ]
  },
  {
   "cell_type": "code",
   "execution_count": 14,
   "metadata": {},
   "outputs": [
    {
     "name": "stdout",
     "output_type": "stream",
     "text": [
      "helloworld\n"
     ]
    }
   ],
   "source": [
    "s1 = 'hello'\n",
    "s2 = 'world'\n",
    "s3 = s1 + s2\n",
    "print(s3)"
   ]
  },
  {
   "cell_type": "markdown",
   "metadata": {
    "collapsed": true
   },
   "source": [
    "## Medium (B)"
   ]
  },
  {
   "cell_type": "markdown",
   "metadata": {},
   "source": [
    "### B1 - compute the hash functions md5 and sha1 of a string"
   ]
  },
  {
   "cell_type": "code",
   "execution_count": 15,
   "metadata": {},
   "outputs": [
    {
     "name": "stdout",
     "output_type": "stream",
     "text": [
      "5eb63bbbe01eeed093cb22bb8f5acdc3\n",
      "2aae6c35c94fcfb415dbe95f408b9ce91ee846ed\n",
      "b94d27b9934d3e08a52e52d7da7dabfac484efe37a5380ee9088f7ace2efcde9\n"
     ]
    }
   ],
   "source": [
    "import hashlib\n",
    "s1 = 'hello world'\n",
    "print(hashlib.md5(s1.encode('utf-8')).hexdigest())\n",
    "print(hashlib.sha1(s1.encode('utf-8')).hexdigest())\n",
    "print(hashlib.sha256(s1.encode('utf-8')).hexdigest())"
   ]
  },
  {
   "cell_type": "markdown",
   "metadata": {},
   "source": [
    "### B2 - tokenize / split string 'hello my world' into words"
   ]
  },
  {
   "cell_type": "code",
   "execution_count": 16,
   "metadata": {},
   "outputs": [
    {
     "name": "stdout",
     "output_type": "stream",
     "text": [
      "['hello', 'my', 'world']\n"
     ]
    }
   ],
   "source": [
    "s1 = \"hello my\\tworld\"\n",
    "print(s1.split()) # space delimiter"
   ]
  },
  {
   "cell_type": "markdown",
   "metadata": {},
   "source": [
    "### B3 - find the longest word in a sentence"
   ]
  },
  {
   "cell_type": "code",
   "execution_count": 17,
   "metadata": {},
   "outputs": [
    {
     "name": "stdout",
     "output_type": "stream",
     "text": [
      "terribly\n"
     ]
    }
   ],
   "source": [
    "s = 'today is going to be a terribly hot day'\n",
    "words = s.split()\n",
    "longest_word = ''\n",
    "for w in words:\n",
    "    if len(w) > len(longest_word):\n",
    "        longest_word = w\n",
    "\n",
    "print(longest_word)"
   ]
  },
  {
   "cell_type": "markdown",
   "metadata": {
    "collapsed": true
   },
   "source": [
    "### B4 - find number of occurrences of string `s1` in string `s2`  "
   ]
  },
  {
   "cell_type": "code",
   "execution_count": 18,
   "metadata": {},
   "outputs": [
    {
     "name": "stdout",
     "output_type": "stream",
     "text": [
      "4\n"
     ]
    }
   ],
   "source": [
    "s1 = 'hello xx yy xxx xxxx'\n",
    "s2 = 'xx'\n",
    "\n",
    "count = 0\n",
    "begin = 0\n",
    "\n",
    "pos = s1.find(s2,begin)\n",
    "while pos > -1:\n",
    "    #print (\"pos \", pos)\n",
    "    count += 1\n",
    "    begin = pos + len(s2)\n",
    "    #print (\"begin \", begin)\n",
    "    #print (\"reminder [\" + s1[begin:] + \"]\")\n",
    "    pos = s1.find(s2,begin)\n",
    "\n",
    "print (count)"
   ]
  },
  {
   "cell_type": "markdown",
   "metadata": {},
   "source": [
    "### B5 - swap comma(,) and dots(.) in a string"
   ]
  },
  {
   "cell_type": "code",
   "execution_count": 19,
   "metadata": {},
   "outputs": [
    {
     "name": "stdout",
     "output_type": "stream",
     "text": [
      "10,300,321.900.8\n",
      "10:300:321.900.8\n",
      "10:300:321,900,8\n",
      "10.300.321,900,8\n"
     ]
    }
   ],
   "source": [
    "s1 = \"10,300,321.900.8\"\n",
    "print(s1)\n",
    "s2 = s1.replace(\",\" , \":\")\n",
    "print(s2)\n",
    "s3 = s2.replace(\".\", \",\")\n",
    "print (s3)\n",
    "s4 = s3.replace(\":\", \".\")\n",
    "print(s4)"
   ]
  },
  {
   "cell_type": "markdown",
   "metadata": {},
   "source": [
    "### B6 - Strip all non alpha-num characters from a string"
   ]
  },
  {
   "cell_type": "code",
   "execution_count": 20,
   "metadata": {},
   "outputs": [
    {
     "name": "stdout",
     "output_type": "stream",
     "text": [
      "stripping non-alpha...\n",
      "input : [hello] ,  output : [hello]\n",
      "input : [124] ,  output : [124]\n",
      "input : [hello!] ,  output : [hello]\n",
      "input : [hi ya #.] ,  output : [hiya]\n",
      "input : [$@#!] ,  output : []\n"
     ]
    }
   ],
   "source": [
    "import re\n",
    "\n",
    "# By Python definition '\\W == [^a-zA-Z0-9_], which excludes all numbers, letters and _\n",
    "# https://stackoverflow.com/questions/1276764/stripping-everything-but-alphanumeric-chars-from-a-string-in-python\n",
    "\n",
    "def strip_nonalpha(s):\n",
    "    return re.sub(r'\\W+', '', s)\n",
    "\n",
    "print(\"stripping non-alpha...\")\n",
    "for s in ['hello', '124', 'hello!', 'hi ya #.', '$@#!']:\n",
    "    print (\"input : [{}] ,  output : [{}]\".format(s, strip_nonalpha(s)) )"
   ]
  },
  {
   "cell_type": "markdown",
   "metadata": {
    "collapsed": true
   },
   "source": [
    "### B7 : Detect palindrome"
   ]
  },
  {
   "cell_type": "code",
   "execution_count": 21,
   "metadata": {},
   "outputs": [
    {
     "name": "stdout",
     "output_type": "stream",
     "text": [
      "is_palindrome? , ignoring punctuation & case\n",
      "aaa : True\n",
      "madam : True\n",
      "Madam : True\n",
      "Rise to vote, sir. :  : True\n",
      "1234#@ : False\n",
      "A tin mug for a jar of gum, Nita. : True\n",
      "Star? Come, Donna Melba, I’m an amiable man – no Democrats! : True\n"
     ]
    }
   ],
   "source": [
    "import re\n",
    "\n",
    "def is_palindrome(s):\n",
    "    # strip any non-alpha-num charectors\n",
    "    # By Python definition '\\W == [^a-zA-Z0-9_], which excludes all numbers, letters and _\n",
    "    # https://stackoverflow.com/questions/1276764/stripping-everything-but-alphanumeric-chars-from-a-string-in-python\n",
    "    s1 = re.sub(r'\\W+', '', s)\n",
    "    rev_s1 = s1[::-1]\n",
    "    return s1.lower() == rev_s1.lower()\n",
    "# end of is_palindrome\n",
    "\n",
    "print(\"is_palindrome? , ignoring punctuation & case\")\n",
    "\n",
    "# get palindromes from : http://www.palindromelist.net/\n",
    "for s in ['aaa', 'madam', 'Madam', 'Rise to vote, sir. : ', '1234#@', 'A tin mug for a jar of gum, Nita.', \\\n",
    "         'Star? Come, Donna Melba, I’m an amiable man – no Democrats!']:\n",
    "    print(s ,\":\" , is_palindrome(s))\n"
   ]
  },
  {
   "cell_type": "code",
   "execution_count": null,
   "metadata": {
    "collapsed": true
   },
   "outputs": [],
   "source": []
  }
 ],
 "metadata": {
  "kernelspec": {
   "display_name": "Python 3",
   "language": "python",
   "name": "python3"
  },
  "language_info": {
   "codemirror_mode": {
    "name": "ipython",
    "version": 3
   },
   "file_extension": ".py",
   "mimetype": "text/x-python",
   "name": "python",
   "nbconvert_exporter": "python",
   "pygments_lexer": "ipython3",
   "version": "3.6.3"
  }
 },
 "nbformat": 4,
 "nbformat_minor": 2
}
