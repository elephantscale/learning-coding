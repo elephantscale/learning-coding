{
 "cells": [
  {
   "cell_type": "markdown",
   "metadata": {},
   "source": [
    "# Date Time Solutions"
   ]
  },
  {
   "cell_type": "markdown",
   "metadata": {},
   "source": [
    "### A1 : get 'elapsed time' since epoch "
   ]
  },
  {
   "cell_type": "code",
   "execution_count": 1,
   "metadata": {},
   "outputs": [
    {
     "name": "stdout",
     "output_type": "stream",
     "text": [
      "1522533450.318413\n"
     ]
    }
   ],
   "source": [
    "import time\n",
    "print(time.time())"
   ]
  },
  {
   "cell_type": "markdown",
   "metadata": {},
   "source": [
    "### A2: Write a Python script to display the following\n",
    "- Current date and time\n",
    "- Current year\n",
    "- Month of year\n",
    "- Week number of the year\n",
    "- Weekday of the week\n",
    "- Day of year\n",
    "- Day of the month\n",
    "- Day of week"
   ]
  },
  {
   "cell_type": "code",
   "execution_count": 2,
   "metadata": {},
   "outputs": [
    {
     "name": "stdout",
     "output_type": "stream",
     "text": [
      "Local current time : time.struct_time(tm_year=2018, tm_mon=3, tm_mday=31, tm_hour=14, tm_min=57, tm_sec=30, tm_wday=5, tm_yday=90, tm_isdst=1)\n"
     ]
    }
   ],
   "source": [
    "# we are using python time tuple \n",
    "\n",
    "import time;\n",
    "\n",
    "localtime = time.localtime(time.time())\n",
    "print(\"Local current time :\", localtime)"
   ]
  },
  {
   "cell_type": "code",
   "execution_count": 3,
   "metadata": {},
   "outputs": [
    {
     "name": "stdout",
     "output_type": "stream",
     "text": [
      "Current year:  2018\n",
      "Month of year:  March\n",
      "Week number of the year:  13\n",
      "Weekday of the week:  6\n",
      "Day of year:  090\n",
      "Day of the month :  31\n",
      "Day of week:  Saturday\n"
     ]
    }
   ],
   "source": [
    "import datetime\n",
    "\n",
    "print(\"Current year: \", datetime.date.today().strftime(\"%Y\"))\n",
    "print(\"Month of year: \", datetime.date.today().strftime(\"%B\"))\n",
    "print(\"Week number of the year: \", datetime.date.today().strftime(\"%W\"))\n",
    "print(\"Weekday of the week: \", datetime.date.today().strftime(\"%w\"))\n",
    "print(\"Day of year: \", datetime.date.today().strftime(\"%j\"))\n",
    "print(\"Day of the month : \", datetime.date.today().strftime(\"%d\"))\n",
    "print(\"Day of week: \", datetime.date.today().strftime(\"%A\"))"
   ]
  },
  {
   "cell_type": "markdown",
   "metadata": {},
   "source": [
    "### A3 : Display current date in this format\n",
    "2018--March--30::14:23:30  \n",
    "yyyy--Month--date::hr:min:seconds"
   ]
  },
  {
   "cell_type": "code",
   "execution_count": 4,
   "metadata": {},
   "outputs": [
    {
     "name": "stdout",
     "output_type": "stream",
     "text": [
      "Current date and time:  2018-03-31 14:57:30.353105\n",
      "Or like this:  2018--Mar--31::14:57:30\n"
     ]
    }
   ],
   "source": [
    "import datetime\n",
    "\n",
    "print(\"Current date and time: \" , datetime.datetime.now())\n",
    "print(\"Or like this: \" ,datetime.datetime.now().strftime(\"%Y--%b--%d::%H:%M:%S\"))"
   ]
  },
  {
   "cell_type": "code",
   "execution_count": 5,
   "metadata": {},
   "outputs": [
    {
     "data": {
      "text/plain": [
       "datetime.datetime(2018, 3, 31, 14, 57, 30, 364946)"
      ]
     },
     "execution_count": 5,
     "metadata": {},
     "output_type": "execute_result"
    }
   ],
   "source": [
    "import datetime\n",
    "\n",
    "datetime.datetime.now()"
   ]
  },
  {
   "cell_type": "markdown",
   "metadata": {},
   "source": [
    "### A4 : convert a string to datetime\n",
    "Input: Jun 1 2014 2:43PM  \n",
    "Expected Output : 2014-07-01 14:43:00\n"
   ]
  },
  {
   "cell_type": "code",
   "execution_count": 6,
   "metadata": {},
   "outputs": [
    {
     "name": "stdout",
     "output_type": "stream",
     "text": [
      "input date : Jun 01 2014 2:43PM\n",
      "converted date : 2014-06-01 02:43:00\n"
     ]
    }
   ],
   "source": [
    "# date formats : https://docs.python.org/3/library/datetime.html#datetime.datetime.strptime\n",
    "\n",
    "import datetime\n",
    "\n",
    "date_str = \"Jun 01 2014 2:43PM\"\n",
    "dt = datetime.datetime.strptime(date_str, '%b %d %Y %H:%M%p' )\n",
    "print(\"input date :\", date_str)\n",
    "print(\"converted date :\", dt)"
   ]
  },
  {
   "cell_type": "markdown",
   "metadata": {},
   "source": [
    "### A5 : Find out what day of the week (mon, tue, wed ..etc) you were born"
   ]
  },
  {
   "cell_type": "code",
   "execution_count": 11,
   "metadata": {},
   "outputs": [
    {
     "name": "stdout",
     "output_type": "stream",
     "text": [
      "input date : Apr 1, 2000\n",
      "1\n",
      "Saturday\n"
     ]
    }
   ],
   "source": [
    "# date formats : https://docs.python.org/3/library/datetime.html#datetime.datetime.strptime\n",
    "\n",
    "import datetime\n",
    "\n",
    "birthday = \"Apr 1, 2000\"\n",
    "dt = datetime.datetime.strptime(birthday, '%b %d, %Y' )\n",
    "print(\"input date :\", birthday)\n",
    "print (dt.day)\n",
    "print (dt.strftime(\"%A\"))"
   ]
  },
  {
   "cell_type": "markdown",
   "metadata": {},
   "source": [
    "### A6 : convert unix timestamp to human readable date"
   ]
  },
  {
   "cell_type": "code",
   "execution_count": 12,
   "metadata": {},
   "outputs": [
    {
     "name": "stdout",
     "output_type": "stream",
     "text": [
      "2018-03-31 15:34:38\n"
     ]
    }
   ],
   "source": [
    "import datetime\n",
    "\n",
    "print (datetime.datetime.fromtimestamp(1522535678))"
   ]
  },
  {
   "cell_type": "code",
   "execution_count": null,
   "metadata": {
    "collapsed": true
   },
   "outputs": [],
   "source": []
  }
 ],
 "metadata": {
  "kernelspec": {
   "display_name": "Python 3",
   "language": "python",
   "name": "python3"
  },
  "language_info": {
   "codemirror_mode": {
    "name": "ipython",
    "version": 3
   },
   "file_extension": ".py",
   "mimetype": "text/x-python",
   "name": "python",
   "nbconvert_exporter": "python",
   "pygments_lexer": "ipython3",
   "version": "3.6.3"
  }
 },
 "nbformat": 4,
 "nbformat_minor": 2
}
