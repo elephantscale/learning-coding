{
 "cells": [
  {
   "cell_type": "markdown",
   "metadata": {},
   "source": [
    "# Comprehensions Solution"
   ]
  },
  {
   "cell_type": "markdown",
   "metadata": {},
   "source": [
    "### A1: Extract only even numbers of a list of numbers 1..100"
   ]
  },
  {
   "cell_type": "code",
   "execution_count": 1,
   "metadata": {},
   "outputs": [
    {
     "name": "stdout",
     "output_type": "stream",
     "text": [
      "range(1, 11)\n",
      "[2, 4, 6, 8, 10]\n"
     ]
    }
   ],
   "source": [
    "a = range(1,11)\n",
    "print(a)\n",
    "b = [x for x in a if x % 2 == 0]\n",
    "print(b)"
   ]
  },
  {
   "cell_type": "markdown",
   "metadata": {},
   "source": [
    "### A2 : Given an array of birth years, create an array of ages\n",
    "current_year=2018\n",
    "[1994, 2000,1998, 1985] => [24, 18, 20, 33]"
   ]
  },
  {
   "cell_type": "code",
   "execution_count": 2,
   "metadata": {},
   "outputs": [
    {
     "name": "stdout",
     "output_type": "stream",
     "text": [
      "[1994, 2000, 1998, 1985]\n",
      "[24, 18, 20, 33]\n"
     ]
    }
   ],
   "source": [
    "current_year = 2018\n",
    "birth_years = [1994, 2000,1998, 1985] \n",
    "age = [current_year - by for by in birth_years]\n",
    "print (birth_years)\n",
    "print(age)"
   ]
  },
  {
   "cell_type": "markdown",
   "metadata": {},
   "source": [
    "### A3 : Given two lists of numbers print the  numbers common in both list"
   ]
  },
  {
   "cell_type": "code",
   "execution_count": 5,
   "metadata": {},
   "outputs": [
    {
     "name": "stdout",
     "output_type": "stream",
     "text": [
      "[1, 2, 3, 5, 10]\n",
      "[1, 4, 5, 10, 12, 15]\n",
      "common: [1, 5, 10]\n"
     ]
    }
   ],
   "source": [
    "a = [1,2,3,5,10]\n",
    "b = [1,4,5,10,12,15]\n",
    "print(a)\n",
    "print(b)\n",
    "\n",
    "common = [x for x in a if x in b]\n",
    "print(\"common:\", common)"
   ]
  },
  {
   "cell_type": "code",
   "execution_count": null,
   "metadata": {
    "collapsed": true
   },
   "outputs": [],
   "source": []
  }
 ],
 "metadata": {
  "kernelspec": {
   "display_name": "Python 3",
   "language": "python",
   "name": "python3"
  },
  "language_info": {
   "codemirror_mode": {
    "name": "ipython",
    "version": 3
   },
   "file_extension": ".py",
   "mimetype": "text/x-python",
   "name": "python",
   "nbconvert_exporter": "python",
   "pygments_lexer": "ipython3",
   "version": "3.6.3"
  }
 },
 "nbformat": 4,
 "nbformat_minor": 2
}
