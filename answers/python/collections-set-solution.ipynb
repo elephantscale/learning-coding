{
 "cells": [
  {
   "cell_type": "markdown",
   "metadata": {},
   "source": [
    "# Collections - Set - Solutions in Python\n",
    "## Easy"
   ]
  },
  {
   "cell_type": "markdown",
   "metadata": {},
   "source": [
    "### A1 - create a set s1 with 10,20,30,40,50"
   ]
  },
  {
   "cell_type": "code",
   "execution_count": 1,
   "metadata": {},
   "outputs": [
    {
     "name": "stdout",
     "output_type": "stream",
     "text": [
      "{40, 10, 50, 20, 30}\n"
     ]
    }
   ],
   "source": [
    "s1 = {10, 20, 30, 40 ,50}\n",
    "print(s1)"
   ]
  },
  {
   "cell_type": "markdown",
   "metadata": {},
   "source": [
    "### A2 - create an empty set s2"
   ]
  },
  {
   "cell_type": "code",
   "execution_count": 2,
   "metadata": {},
   "outputs": [
    {
     "name": "stdout",
     "output_type": "stream",
     "text": [
      "set()\n"
     ]
    }
   ],
   "source": [
    "# doing s2 = {} won't work.  this will create a dictionary\n",
    "s2 = set()\n",
    "print (s2)"
   ]
  },
  {
   "cell_type": "markdown",
   "metadata": {},
   "source": [
    "### A3 - Add 60 to set s1"
   ]
  },
  {
   "cell_type": "code",
   "execution_count": 3,
   "metadata": {},
   "outputs": [
    {
     "name": "stdout",
     "output_type": "stream",
     "text": [
      "{40, 10, 50, 20, 60, 30}\n"
     ]
    }
   ],
   "source": [
    "s1.add(60)\n",
    "print (s1)"
   ]
  },
  {
   "cell_type": "markdown",
   "metadata": {},
   "source": [
    "### A4 - Check if element is in set"
   ]
  },
  {
   "cell_type": "code",
   "execution_count": 4,
   "metadata": {},
   "outputs": [
    {
     "name": "stdout",
     "output_type": "stream",
     "text": [
      "10 exists in set\n",
      "100 doesn't exist\n"
     ]
    }
   ],
   "source": [
    "if 10 in s1:\n",
    "    print (\"10 exists in set\")\n",
    "    \n",
    "if 100 not in s1:\n",
    "    print (\"100 doesn't exist\")"
   ]
  },
  {
   "cell_type": "markdown",
   "metadata": {},
   "source": [
    "### A5 - delete 10 from set"
   ]
  },
  {
   "cell_type": "code",
   "execution_count": 5,
   "metadata": {},
   "outputs": [
    {
     "name": "stdout",
     "output_type": "stream",
     "text": [
      "{40, 50, 20, 30}\n",
      "{40, 50, 20, 30}\n"
     ]
    }
   ],
   "source": [
    "s1 = {10, 20, 30, 40 ,50}\n",
    "s1.remove(10)\n",
    "print(s1)\n",
    "#s1.remove(10)  # this will raise a KeyError\n",
    "\n",
    "s1 = {10, 20, 30, 40 ,50}\n",
    "s1.discard(10)\n",
    "print(s1)\n",
    "s1.discard(10) #won't raise keyerror"
   ]
  },
  {
   "cell_type": "markdown",
   "metadata": {},
   "source": [
    "### A6 - Iterate through the set and print each element"
   ]
  },
  {
   "cell_type": "code",
   "execution_count": 6,
   "metadata": {},
   "outputs": [
    {
     "name": "stdout",
     "output_type": "stream",
     "text": [
      "40\n",
      "10\n",
      "50\n",
      "20\n",
      "30\n"
     ]
    }
   ],
   "source": [
    "s1 = {10, 20, 30, 40 ,50}\n",
    "for a in s1:\n",
    "    print(a)"
   ]
  },
  {
   "cell_type": "markdown",
   "metadata": {},
   "source": [
    "### A7 - Get sorted list from set"
   ]
  },
  {
   "cell_type": "code",
   "execution_count": 7,
   "metadata": {},
   "outputs": [
    {
     "name": "stdout",
     "output_type": "stream",
     "text": [
      "[10, 20, 30, 40, 50]\n"
     ]
    }
   ],
   "source": [
    "s1 = {20, 10, 30 ,50, 40}\n",
    "print(sorted(s1))"
   ]
  },
  {
   "cell_type": "markdown",
   "metadata": {},
   "source": [
    "### A8 - delete all elements from set s1"
   ]
  },
  {
   "cell_type": "code",
   "execution_count": 8,
   "metadata": {},
   "outputs": [
    {
     "name": "stdout",
     "output_type": "stream",
     "text": [
      "set()\n"
     ]
    }
   ],
   "source": [
    "s1.clear()\n",
    "print(s1)"
   ]
  },
  {
   "cell_type": "markdown",
   "metadata": {},
   "source": [
    "---\n",
    "## Medium\n",
    "\n",
    "### Working with two sets\n",
    "\n",
    "### B1 - create two sets"
   ]
  },
  {
   "cell_type": "code",
   "execution_count": 9,
   "metadata": {},
   "outputs": [
    {
     "name": "stdout",
     "output_type": "stream",
     "text": [
      "{40, 10, 20, 30}\n",
      "{10, 30, 15}\n",
      "{10, 30}\n",
      "{10, 30}\n"
     ]
    }
   ],
   "source": [
    "a = {10,20,30,40}\n",
    "b = {10,15,30}\n",
    "print(a)\n",
    "print(b)\n",
    "# common\n",
    "c = a & b\n",
    "print(c)\n",
    "c = a.intersection(b)\n",
    "print(c)"
   ]
  },
  {
   "cell_type": "markdown",
   "metadata": {},
   "source": [
    "### B2 - Unique to `a` only"
   ]
  },
  {
   "cell_type": "code",
   "execution_count": 10,
   "metadata": {},
   "outputs": [
    {
     "name": "stdout",
     "output_type": "stream",
     "text": [
      "{40, 20}\n"
     ]
    }
   ],
   "source": [
    "a = {10,20,30,40}\n",
    "b = {10,15,30}\n",
    "c = a - b\n",
    "print(c)"
   ]
  },
  {
   "cell_type": "markdown",
   "metadata": {},
   "source": [
    "### B3 - union of set `a` and `b`"
   ]
  },
  {
   "cell_type": "code",
   "execution_count": 11,
   "metadata": {},
   "outputs": [
    {
     "name": "stdout",
     "output_type": "stream",
     "text": [
      "{20, 40, 10, 30, 15}\n",
      "{20, 40, 10, 30, 15}\n"
     ]
    }
   ],
   "source": [
    "a = {10,20,30,40}\n",
    "b = {10,15,30}\n",
    "c = a | b\n",
    "print(c)\n",
    "c = a.union(b)\n",
    "print(c)"
   ]
  },
  {
   "cell_type": "markdown",
   "metadata": {},
   "source": [
    "### B4 - dedupe"
   ]
  },
  {
   "cell_type": "code",
   "execution_count": 12,
   "metadata": {},
   "outputs": [
    {
     "name": "stdout",
     "output_type": "stream",
     "text": [
      "[98, 59, 68, 94, 72, 55, 11, 24, 57, 85, 81, 52, 63, 28, 21, 36, 85, 92, 29, 44, 77, 83, 29, 1, 68, 64, 23, 87, 70, 83, 48, 84, 12, 32, 3, 76, 19, 93, 36, 75, 26, 86, 86, 18, 75, 12, 86, 17, 40]\n",
      "length of list :  49\n",
      "{1, 3, 11, 12, 17, 18, 19, 21, 23, 24, 26, 28, 29, 32, 36, 40, 44, 48, 52, 55, 57, 59, 63, 64, 68, 70, 72, 75, 76, 77, 81, 83, 84, 85, 86, 87, 92, 93, 94, 98}\n",
      "length of set :  40\n",
      "sorted numbers : \n",
      "[1, 3, 11, 12, 17, 18, 19, 21, 23, 24, 26, 28, 29, 32, 36, 40, 44, 48, 52, 55, 57, 59, 63, 64, 68, 70, 72, 75, 76, 77, 81, 83, 84, 85, 86, 87, 92, 93, 94, 98]\n"
     ]
    }
   ],
   "source": [
    "# craete 50 random numbers between 1 and 100\n",
    "import random\n",
    "a = []\n",
    "for i in range(1,50):\n",
    "    a.append(random.randint(1,100))\n",
    "print(a)\n",
    "print (\"length of list : \" , len(a))\n",
    "\n",
    "# create a set\n",
    "s = set(a)\n",
    "print(s)\n",
    "print (\"length of set : \", len(s))\n",
    "print (\"sorted numbers : \")\n",
    "print(sorted(s))"
   ]
  },
  {
   "cell_type": "code",
   "execution_count": null,
   "metadata": {
    "collapsed": true
   },
   "outputs": [],
   "source": []
  }
 ],
 "metadata": {
  "kernelspec": {
   "display_name": "Python 3",
   "language": "python",
   "name": "python3"
  },
  "language_info": {
   "codemirror_mode": {
    "name": "ipython",
    "version": 3
   },
   "file_extension": ".py",
   "mimetype": "text/x-python",
   "name": "python",
   "nbconvert_exporter": "python",
   "pygments_lexer": "ipython3",
   "version": "3.6.3"
  }
 },
 "nbformat": 4,
 "nbformat_minor": 2
}
