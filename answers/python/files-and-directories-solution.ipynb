{
 "cells": [
  {
   "cell_type": "markdown",
   "metadata": {},
   "source": [
    "# Files and Directories Solution"
   ]
  },
  {
   "cell_type": "markdown",
   "metadata": {},
   "source": [
    "## Easy A"
   ]
  },
  {
   "cell_type": "markdown",
   "metadata": {},
   "source": [
    "### A1: Get current working directory"
   ]
  },
  {
   "cell_type": "code",
   "execution_count": 1,
   "metadata": {},
   "outputs": [
    {
     "name": "stdout",
     "output_type": "stream",
     "text": [
      "/Users/sujee/ElephantScale/learning-coding/answers/python\n"
     ]
    }
   ],
   "source": [
    "import os\n",
    "\n",
    "print(os.getcwd())"
   ]
  },
  {
   "cell_type": "markdown",
   "metadata": {},
   "source": [
    "### A2: Get absolute path of a file"
   ]
  },
  {
   "cell_type": "code",
   "execution_count": 2,
   "metadata": {},
   "outputs": [
    {
     "name": "stdout",
     "output_type": "stream",
     "text": [
      "/Users/sujee/ElephantScale/learning-coding/answers/python/a.txt\n",
      "/Users/sujee/ElephantScale/learning-coding/answers/python/a.txt\n"
     ]
    }
   ],
   "source": [
    "import os\n",
    "print(os.path.abspath(\"a.txt\"))\n",
    "print(os.path.realpath(\"a.txt\"))"
   ]
  },
  {
   "cell_type": "markdown",
   "metadata": {},
   "source": [
    "### A3: Extract path and short file name given an absolute file path\n",
    "input : /home/ubuntu/dev/python/a.txt   \n",
    "output : path=/home/ubuntu/dev/python,   file name=a.txt"
   ]
  },
  {
   "cell_type": "code",
   "execution_count": 3,
   "metadata": {},
   "outputs": [
    {
     "name": "stdout",
     "output_type": "stream",
     "text": [
      "dir_name /Users/sujee/ElephantScale/learning-coding/answers/python\n",
      "file_name a.txt\n"
     ]
    }
   ],
   "source": [
    "import os\n",
    "\n",
    "abs_path = os.path.abspath(\"a.txt\")\n",
    "(dir_name, file_name) = os.path.split(abs_path)\n",
    "print('dir_name', dir_name)\n",
    "print('file_name', file_name)"
   ]
  },
  {
   "cell_type": "markdown",
   "metadata": {},
   "source": [
    "### A4: Extract base file name and extension given a file"
   ]
  },
  {
   "cell_type": "code",
   "execution_count": 4,
   "metadata": {},
   "outputs": [
    {
     "name": "stdout",
     "output_type": "stream",
     "text": [
      "dir_file_name: /home/ubuntu/run\n",
      "base_file_name: run\n",
      "extension: .py\n"
     ]
    }
   ],
   "source": [
    "import os\n",
    "\n",
    "(dir_file_name, extension) = os.path.splitext('/home/ubuntu/run.py')\n",
    "print('dir_file_name:', dir_file_name)\n",
    "print('base_file_name:', os.path.basename(dir_file_name))\n",
    "print('extension:', extension)"
   ]
  },
  {
   "cell_type": "markdown",
   "metadata": {},
   "source": [
    "### A5: Create file in current working directory\n"
   ]
  },
  {
   "cell_type": "markdown",
   "metadata": {},
   "source": [
    "### A6 : Print absolute path of user's home directory"
   ]
  },
  {
   "cell_type": "code",
   "execution_count": 5,
   "metadata": {},
   "outputs": [
    {
     "name": "stdout",
     "output_type": "stream",
     "text": [
      "/Users/sujee\n"
     ]
    }
   ],
   "source": [
    "import os\n",
    "\n",
    "print(os.path.expanduser('~'))"
   ]
  },
  {
   "cell_type": "markdown",
   "metadata": {},
   "source": [
    "## B - Medium"
   ]
  },
  {
   "cell_type": "markdown",
   "metadata": {},
   "source": [
    "### B1: List all contents of a directory"
   ]
  },
  {
   "cell_type": "code",
   "execution_count": 6,
   "metadata": {},
   "outputs": [
    {
     "name": "stdout",
     "output_type": "stream",
     "text": [
      "collections-list-solution.html\n",
      "regex-solution.ipynb\n",
      "string-solutions.html\n",
      "files-and-directories-solution.ipynb\n",
      "collections-map-solution.html\n",
      "collections-map-solution.ipynb\n",
      "experiments\n",
      "regex-solution.html\n",
      "control-solution.html\n",
      "utilities-solution.html\n",
      "nb2html.sh\n",
      "collections-list-solution.ipynb\n",
      "control-solution.ipynb\n",
      "collections-set-solution.html\n",
      "not-using\n",
      "string-solutions.ipynb\n",
      "utilities-solution.ipynb\n",
      "collections-set-solution.ipynb\n"
     ]
    }
   ],
   "source": [
    "import glob\n",
    "\n",
    "# basically : \n",
    "#    glob.glob(\"*\")\n",
    "#    glob.glob('*.txt')\n",
    "\n",
    "contents = glob.glob('*')\n",
    "\n",
    "for c in contents:\n",
    "    print(c)"
   ]
  },
  {
   "cell_type": "markdown",
   "metadata": {},
   "source": [
    "### B2: List files and directories under a directory separately"
   ]
  },
  {
   "cell_type": "code",
   "execution_count": 7,
   "metadata": {},
   "outputs": [
    {
     "name": "stdout",
     "output_type": "stream",
     "text": [
      "listing files...\n",
      "   collections-list-solution.html\n",
      "   regex-solution.ipynb\n",
      "   string-solutions.html\n",
      "   files-and-directories-solution.ipynb\n",
      "   collections-map-solution.html\n",
      "   collections-map-solution.ipynb\n",
      "   regex-solution.html\n",
      "   control-solution.html\n",
      "   utilities-solution.html\n",
      "   nb2html.sh\n",
      "   collections-list-solution.ipynb\n",
      "   control-solution.ipynb\n",
      "   collections-set-solution.html\n",
      "   string-solutions.ipynb\n",
      "   utilities-solution.ipynb\n",
      "   collections-set-solution.ipynb\n",
      "\n",
      "listing directories...\n",
      "   experiments\n",
      "   not-using\n"
     ]
    }
   ],
   "source": [
    "import glob\n",
    "\n",
    "contents = glob.glob('*')\n",
    "\n",
    "print (\"listing files...\")\n",
    "for c in contents:\n",
    "    if os.path.isfile(c):\n",
    "        print(\"  \", c)\n",
    "print()\n",
    "\n",
    "\n",
    "print (\"listing directories...\")\n",
    "for c in contents:\n",
    "    if os.path.isdir(c):\n",
    "        print(\"  \", c)"
   ]
  },
  {
   "cell_type": "markdown",
   "metadata": {},
   "source": [
    "### B3 : List directory contents in alphabetical order (ignore case)"
   ]
  },
  {
   "cell_type": "code",
   "execution_count": 8,
   "metadata": {},
   "outputs": [
    {
     "name": "stdout",
     "output_type": "stream",
     "text": [
      "collections-list-solution.html\n",
      "collections-list-solution.ipynb\n",
      "collections-map-solution.html\n",
      "collections-map-solution.ipynb\n",
      "collections-set-solution.html\n",
      "collections-set-solution.ipynb\n",
      "control-solution.html\n",
      "control-solution.ipynb\n",
      "experiments\n",
      "files-and-directories-solution.ipynb\n",
      "nb2html.sh\n",
      "not-using\n",
      "regex-solution.html\n",
      "regex-solution.ipynb\n",
      "string-solutions.html\n",
      "string-solutions.ipynb\n",
      "utilities-solution.html\n",
      "utilities-solution.ipynb\n"
     ]
    }
   ],
   "source": [
    "import glob\n",
    "\n",
    "contents = glob.glob('*')\n",
    "contents.sort()\n",
    "\n",
    "for c in contents:\n",
    "    print(c)"
   ]
  },
  {
   "cell_type": "markdown",
   "metadata": {},
   "source": [
    "### B4 : Print sizes of files within a directory"
   ]
  },
  {
   "cell_type": "code",
   "execution_count": 9,
   "metadata": {},
   "outputs": [
    {
     "name": "stdout",
     "output_type": "stream",
     "text": [
      "listing files...\n",
      "  collections-list-solution.html , size = 273573 bytes\n",
      "  regex-solution.ipynb , size = 7692 bytes\n",
      "  string-solutions.html , size = 284402 bytes\n",
      "  files-and-directories-solution.ipynb , size = 8762 bytes\n",
      "  collections-map-solution.html , size = 267111 bytes\n",
      "  collections-map-solution.ipynb , size = 6425 bytes\n",
      "  regex-solution.html , size = 267407 bytes\n",
      "  control-solution.html , size = 255254 bytes\n",
      "  utilities-solution.html , size = 253841 bytes\n",
      "  nb2html.sh , size = 328 bytes\n",
      "  collections-list-solution.ipynb , size = 10083 bytes\n",
      "  control-solution.ipynb , size = 2972 bytes\n",
      "  collections-set-solution.html , size = 269694 bytes\n",
      "  string-solutions.ipynb , size = 13169 bytes\n",
      "  utilities-solution.ipynb , size = 2349 bytes\n",
      "  collections-set-solution.ipynb , size = 7374 bytes\n"
     ]
    }
   ],
   "source": [
    "import glob\n",
    "\n",
    "contents = glob.glob('*')\n",
    "\n",
    "print (\"listing files...\")\n",
    "for c in contents:\n",
    "    if os.path.isfile(c):\n",
    "        meta = os.stat(c)\n",
    "        print(\"  {} , size = {} bytes\".format(c , meta.st_size))\n"
   ]
  },
  {
   "cell_type": "code",
   "execution_count": null,
   "metadata": {
    "collapsed": true
   },
   "outputs": [],
   "source": []
  }
 ],
 "metadata": {
  "kernelspec": {
   "display_name": "Python 3",
   "language": "python",
   "name": "python3"
  },
  "language_info": {
   "codemirror_mode": {
    "name": "ipython",
    "version": 3
   },
   "file_extension": ".py",
   "mimetype": "text/x-python",
   "name": "python",
   "nbconvert_exporter": "python",
   "pygments_lexer": "ipython3",
   "version": "3.6.3"
  }
 },
 "nbformat": 4,
 "nbformat_minor": 2
}
