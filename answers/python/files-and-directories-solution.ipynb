{
 "cells": [
  {
   "cell_type": "markdown",
   "metadata": {},
   "source": [
    "# Files and Directories Solution"
   ]
  },
  {
   "cell_type": "markdown",
   "metadata": {},
   "source": [
    "## Easy A"
   ]
  },
  {
   "cell_type": "markdown",
   "metadata": {},
   "source": [
    "### A1: Get current working directory"
   ]
  },
  {
   "cell_type": "code",
   "execution_count": 1,
   "metadata": {},
   "outputs": [
    {
     "name": "stdout",
     "output_type": "stream",
     "text": [
      "/Users/sujee/ElephantScale/learning-coding/answers/python\n"
     ]
    }
   ],
   "source": [
    "import os\n",
    "\n",
    "print(os.getcwd())"
   ]
  },
  {
   "cell_type": "markdown",
   "metadata": {},
   "source": [
    "### A2: Get absolute path of a file"
   ]
  },
  {
   "cell_type": "code",
   "execution_count": 2,
   "metadata": {},
   "outputs": [
    {
     "name": "stdout",
     "output_type": "stream",
     "text": [
      "/Users/sujee/ElephantScale/learning-coding/answers/python/a.txt\n",
      "/Users/sujee/ElephantScale/learning-coding/answers/python/a.txt\n"
     ]
    }
   ],
   "source": [
    "import os\n",
    "print(os.path.abspath(\"a.txt\"))\n",
    "print(os.path.realpath(\"a.txt\"))"
   ]
  },
  {
   "cell_type": "markdown",
   "metadata": {},
   "source": [
    "### A3: Extract path and short file name given an absolute file path\n",
    "input : /home/ubuntu/dev/python/a.txt   \n",
    "output : path=/home/ubuntu/dev/python,   file name=a.txt"
   ]
  },
  {
   "cell_type": "code",
   "execution_count": 3,
   "metadata": {},
   "outputs": [
    {
     "name": "stdout",
     "output_type": "stream",
     "text": [
      "dir_name /Users/sujee/ElephantScale/learning-coding/answers/python\n",
      "file_name a.txt\n"
     ]
    }
   ],
   "source": [
    "import os\n",
    "\n",
    "abs_path = os.path.abspath(\"a.txt\")\n",
    "(dir_name, file_name) = os.path.split(abs_path)\n",
    "print('dir_name', dir_name)\n",
    "print('file_name', file_name)"
   ]
  },
  {
   "cell_type": "markdown",
   "metadata": {},
   "source": [
    "### A4: Extract base file name and extension given a file"
   ]
  },
  {
   "cell_type": "code",
   "execution_count": 4,
   "metadata": {},
   "outputs": [
    {
     "name": "stdout",
     "output_type": "stream",
     "text": [
      "dir_file_name: /home/ubuntu/run\n",
      "base_file_name: run\n",
      "extension: .py\n"
     ]
    }
   ],
   "source": [
    "import os\n",
    "\n",
    "(dir_file_name, extension) = os.path.splitext('/home/ubuntu/run.py')\n",
    "print('dir_file_name:', dir_file_name)\n",
    "print('base_file_name:', os.path.basename(dir_file_name))\n",
    "print('extension:', extension)"
   ]
  },
  {
   "cell_type": "markdown",
   "metadata": {},
   "source": [
    "### A5: Create file in current working directory\n"
   ]
  },
  {
   "cell_type": "markdown",
   "metadata": {},
   "source": [
    "### A6 : Print absolute path of user's home directory"
   ]
  },
  {
   "cell_type": "code",
   "execution_count": 5,
   "metadata": {},
   "outputs": [
    {
     "name": "stdout",
     "output_type": "stream",
     "text": [
      "/Users/sujee\n"
     ]
    }
   ],
   "source": [
    "import os\n",
    "\n",
    "print(os.path.expanduser('~'))"
   ]
  },
  {
   "cell_type": "markdown",
   "metadata": {},
   "source": [
    "## B - Medium"
   ]
  },
  {
   "cell_type": "markdown",
   "metadata": {},
   "source": [
    "### B1: List all contents of a directory"
   ]
  },
  {
   "cell_type": "code",
   "execution_count": 6,
   "metadata": {},
   "outputs": [
    {
     "name": "stdout",
     "output_type": "stream",
     "text": [
      "collections-list-solution.html\n",
      "regex-solution.ipynb\n",
      "string-solutions.html\n",
      "files-and-directories-solution.ipynb\n",
      "collections-map-solution.html\n",
      "collections-map-solution.ipynb\n",
      "experiments\n",
      "regex-solution.html\n",
      "control-solution.html\n",
      "utilities-solution.html\n",
      "nb2html.sh\n",
      "collections-list-solution.ipynb\n",
      "control-solution.ipynb\n",
      "collections-set-solution.html\n",
      "not-using\n",
      "string-solutions.ipynb\n",
      "utilities-solution.ipynb\n",
      "collections-set-solution.ipynb\n"
     ]
    }
   ],
   "source": [
    "import glob\n",
    "\n",
    "# basically : \n",
    "#    glob.glob(\"*\")\n",
    "#    glob.glob('*.txt')\n",
    "\n",
    "contents = glob.glob('*')\n",
    "\n",
    "for c in contents:\n",
    "    print(c)"
   ]
  },
  {
   "cell_type": "markdown",
   "metadata": {},
   "source": [
    "### B2: List files and directories under a directory separately"
   ]
  },
  {
   "cell_type": "code",
   "execution_count": 7,
   "metadata": {},
   "outputs": [
    {
     "name": "stdout",
     "output_type": "stream",
     "text": [
      "listing files...\n",
      "   collections-list-solution.html\n",
      "   regex-solution.ipynb\n",
      "   string-solutions.html\n",
      "   files-and-directories-solution.ipynb\n",
      "   collections-map-solution.html\n",
      "   collections-map-solution.ipynb\n",
      "   regex-solution.html\n",
      "   control-solution.html\n",
      "   utilities-solution.html\n",
      "   nb2html.sh\n",
      "   collections-list-solution.ipynb\n",
      "   control-solution.ipynb\n",
      "   collections-set-solution.html\n",
      "   string-solutions.ipynb\n",
      "   utilities-solution.ipynb\n",
      "   collections-set-solution.ipynb\n",
      "\n",
      "listing directories...\n",
      "   experiments\n",
      "   not-using\n"
     ]
    }
   ],
   "source": [
    "import glob\n",
    "\n",
    "contents = glob.glob('*')\n",
    "\n",
    "print (\"listing files...\")\n",
    "for c in contents:\n",
    "    if os.path.isfile(c):\n",
    "        print(\"  \", c)\n",
    "print()\n",
    "\n",
    "\n",
    "print (\"listing directories...\")\n",
    "for c in contents:\n",
    "    if os.path.isdir(c):\n",
    "        print(\"  \", c)"
   ]
  },
  {
   "cell_type": "markdown",
   "metadata": {},
   "source": [
    "### B3 : List directory contents in alphabetical order (ignore case)"
   ]
  },
  {
   "cell_type": "code",
   "execution_count": 8,
   "metadata": {},
   "outputs": [
    {
     "name": "stdout",
     "output_type": "stream",
     "text": [
      "collections-list-solution.html\n",
      "collections-list-solution.ipynb\n",
      "collections-map-solution.html\n",
      "collections-map-solution.ipynb\n",
      "collections-set-solution.html\n",
      "collections-set-solution.ipynb\n",
      "control-solution.html\n",
      "control-solution.ipynb\n",
      "experiments\n",
      "files-and-directories-solution.ipynb\n",
      "nb2html.sh\n",
      "not-using\n",
      "regex-solution.html\n",
      "regex-solution.ipynb\n",
      "string-solutions.html\n",
      "string-solutions.ipynb\n",
      "utilities-solution.html\n",
      "utilities-solution.ipynb\n"
     ]
    }
   ],
   "source": [
    "import glob\n",
    "\n",
    "contents = glob.glob('*')\n",
    "contents.sort()\n",
    "\n",
    "for c in contents:\n",
    "    print(c)"
   ]
  },
  {
   "cell_type": "markdown",
   "metadata": {},
   "source": [
    "### B4 : Print sizes of files within a directory"
   ]
  },
  {
   "cell_type": "code",
   "execution_count": 9,
   "metadata": {},
   "outputs": [
    {
     "name": "stdout",
     "output_type": "stream",
     "text": [
      "listing files...\n",
      "  collections-list-solution.html , size = 273573 bytes\n",
      "  regex-solution.ipynb , size = 7692 bytes\n",
      "  string-solutions.html , size = 284402 bytes\n",
      "  files-and-directories-solution.ipynb , size = 27111 bytes\n",
      "  collections-map-solution.html , size = 267111 bytes\n",
      "  collections-map-solution.ipynb , size = 6425 bytes\n",
      "  regex-solution.html , size = 267407 bytes\n",
      "  control-solution.html , size = 255254 bytes\n",
      "  utilities-solution.html , size = 253841 bytes\n",
      "  nb2html.sh , size = 328 bytes\n",
      "  collections-list-solution.ipynb , size = 10083 bytes\n",
      "  control-solution.ipynb , size = 2972 bytes\n",
      "  collections-set-solution.html , size = 269694 bytes\n",
      "  string-solutions.ipynb , size = 13169 bytes\n",
      "  utilities-solution.ipynb , size = 2349 bytes\n",
      "  collections-set-solution.ipynb , size = 7374 bytes\n"
     ]
    }
   ],
   "source": [
    "import glob\n",
    "\n",
    "contents = glob.glob('*')\n",
    "\n",
    "print (\"listing files...\")\n",
    "for c in contents:\n",
    "    if os.path.isfile(c):\n",
    "        meta = os.stat(c)\n",
    "        print(\"  {} , size = {} bytes\".format(c , meta.st_size))\n"
   ]
  },
  {
   "cell_type": "markdown",
   "metadata": {},
   "source": [
    "### B5 : Print number of lines and length of a given file"
   ]
  },
  {
   "cell_type": "code",
   "execution_count": 10,
   "metadata": {},
   "outputs": [
    {
     "name": "stdout",
     "output_type": "stream",
     "text": [
      "files-and-directories-solution.ipynb ,  size=27111,  lines=857\n"
     ]
    }
   ],
   "source": [
    "import os\n",
    "\n",
    "file = 'files-and-directories-solution.ipynb'\n",
    "with open (file, 'r') as infile:\n",
    "    data = infile.read()\n",
    "    size = len(data)\n",
    "\n",
    "with open (file, 'r') as infile:\n",
    "    num_lines = 0\n",
    "    for line in infile.readlines():\n",
    "        num_lines += 1\n",
    "\n",
    "print('{} ,  size={},  lines={}'.format(file, size, num_lines))"
   ]
  },
  {
   "cell_type": "markdown",
   "metadata": {
    "collapsed": true
   },
   "source": [
    "### B6 : Print number of lines for each file in a directory"
   ]
  },
  {
   "cell_type": "code",
   "execution_count": 11,
   "metadata": {},
   "outputs": [
    {
     "name": "stdout",
     "output_type": "stream",
     "text": [
      "collections-list-solution.html,  lines:12592\n",
      "regex-solution.ipynb,  lines:325\n",
      "string-solutions.html,  lines:12734\n",
      "files-and-directories-solution.ipynb,  lines:857\n",
      "collections-map-solution.html,  lines:12238\n",
      "collections-map-solution.ipynb,  lines:350\n",
      "regex-solution.html,  lines:12168\n",
      "control-solution.html,  lines:11996\n",
      "utilities-solution.html,  lines:11929\n",
      "nb2html.sh,  lines:14\n",
      "collections-list-solution.ipynb,  lines:557\n",
      "control-solution.ipynb,  lines:188\n",
      "collections-set-solution.html,  lines:12322\n",
      "string-solutions.ipynb,  lines:678\n",
      "utilities-solution.ipynb,  lines:139\n",
      "collections-set-solution.ipynb,  lines:399\n"
     ]
    }
   ],
   "source": [
    "import glob\n",
    "import os\n",
    "\n",
    "for file in glob.glob('*'):\n",
    "    if os.path.isfile(file):\n",
    "        with open (file, 'r') as infile:\n",
    "            num_lines = 0\n",
    "            for line in infile.readlines():\n",
    "                num_lines += 1\n",
    "            print(\"{},  lines:{}\".format(infile.name, num_lines))"
   ]
  },
  {
   "cell_type": "markdown",
   "metadata": {},
   "source": [
    "### B7: Calculate hashes (md5, sha1 and sha256) for a given file\n",
    "Extend this to calculate hashes for all files in a directory.  \n",
    "How well your code is working for large files (several gigs in size)?  \n",
    "You can generate some random file as follows (unix like systems)\n",
    "```\n",
    "    # this generates a 1G file\n",
    "    dd if=\"/dev/random\" of=\"file\" bs=1M count=1000\n",
    "```"
   ]
  },
  {
   "cell_type": "code",
   "execution_count": 12,
   "metadata": {},
   "outputs": [
    {
     "name": "stdout",
     "output_type": "stream",
     "text": [
      "file:  collections-list-solution.html\n",
      "   md5   : 49f452fab467ec10be39e79b01e1ff94\n",
      "   sha1  : 9bdbd8cc2c77feb3b007cc26c48687ef2d4c25d6\n",
      "   sha256: 0b1ff7a5627a06ebfb1e3bd5867e84ca654b08f15889557150fa954c5a354e88\n",
      "file:  regex-solution.ipynb\n",
      "   md5   : f3505daaf3bcc74b8cadd65806ed241f\n",
      "   sha1  : c668ad84e492e27044254c2eedf7e4c398b26854\n",
      "   sha256: 52df0a8a6ad7fedfdc157a4013eafa9f6460fd6c601d6439376885766320f480\n",
      "file:  string-solutions.html\n",
      "   md5   : dbb637220c6f196f0adcd9621ee10024\n",
      "   sha1  : 18c3eac8fea30b1f223a6ec4760717117f42785b\n",
      "   sha256: d40daa7bad269ec225a7959251f4216eba5896f626af31cc58c7686141e89216\n",
      "file:  files-and-directories-solution.ipynb\n",
      "   md5   : 8de3b647093642c804f64e0566f0eb5d\n",
      "   sha1  : a2549eafd6d6a809e725f0af7b4a56cb82e7ed7d\n",
      "   sha256: 33cbd828eefceebddbbb572903099f1f01b9d135ce8cf7931719ed019f8ab26a\n",
      "file:  collections-map-solution.html\n",
      "   md5   : 7ad83eb7c8d30e268deb0b13c11dfd91\n",
      "   sha1  : 96ea86b15ab851521f262a6d6387d16a3aba0204\n",
      "   sha256: d1b532fcaba0da8b407881ef08387ef34941269dde248c3fe71d1ed687236bd2\n",
      "file:  collections-map-solution.ipynb\n",
      "   md5   : 4409e6ce90241b256752e72933e907e6\n",
      "   sha1  : 42fed9a6470f57a92a45cc932bd507e3d9247617\n",
      "   sha256: c180326e678460ad9a370fd7d4aa9c6368f288845da26f0998c9902071888070\n",
      "file:  regex-solution.html\n",
      "   md5   : 9ddb7599bddde43ff76cd555838e1bbd\n",
      "   sha1  : d2aae4a891f1973cb7bff98c1810d6d1a054a727\n",
      "   sha256: ecf4fa64f4ac7aa95f3f87e6741a0b8ed47d9398590799000b947db4a7e175e1\n",
      "file:  control-solution.html\n",
      "   md5   : 8094299bde1b8feb720c8c828fd6c361\n",
      "   sha1  : ab0c7b87ed77ae84d9ecb34641238cd57d687c7a\n",
      "   sha256: 7586f511eafc52a7b8227bd5b09d6a86c5c426ce8ba132123b9a9c61fac1530d\n",
      "file:  utilities-solution.html\n",
      "   md5   : 0b6c6ebc3c78e7429d276756880bdab7\n",
      "   sha1  : 868e83f1ac7f3f0b9ade70875c37024cbfc16a8f\n",
      "   sha256: c83987be87d40d536e65d26e313e8e3863eb9d71cd8aafcefdae7ad285dacf30\n",
      "file:  nb2html.sh\n",
      "   md5   : 86ebd9729b18d07ba00d57ffb2aa6cf4\n",
      "   sha1  : dc0719d1f9e57feac57364b60a7fd7e622010580\n",
      "   sha256: 483c972ba204873adda84a8206eb7cd5062453771c2f7ea08f982cb490d11433\n",
      "file:  collections-list-solution.ipynb\n",
      "   md5   : 78e56d491b2694b7c3930ff3bacfb900\n",
      "   sha1  : 239cab87a9864dad2c292e18ff23514695678e89\n",
      "   sha256: 218288dd5ab4ff2ca6a946c65223c7cc9c78fc9d40676eec9c7919fe342304c2\n",
      "file:  control-solution.ipynb\n",
      "   md5   : 9672ea0d28c7649d47c309968d18f587\n",
      "   sha1  : 83098239e3910f6ae40337a0900c2bf873f45b86\n",
      "   sha256: 866783a03d131467801c86196c531cc84b219984d7ecca4a3feb1c79b275a890\n",
      "file:  collections-set-solution.html\n",
      "   md5   : 1130210a549f4ec5db8f35848ef12a1a\n",
      "   sha1  : 849902b830945eb7600971e401223a9386a8630b\n",
      "   sha256: 00b1572d26b1dd35cf24e89a41e2ca8dff9792120f8aabef15fea44e9282ade0\n",
      "file:  string-solutions.ipynb\n",
      "   md5   : 03bad2d13287361b8fee406191b14ab0\n",
      "   sha1  : 7483e541f9baa1eb1306a4080a1e10e5f65697c7\n",
      "   sha256: 0fddd70c50aacfa4b3d6eddfeecd91397b98bf2590441c7276924f74ed8898b1\n",
      "file:  utilities-solution.ipynb\n",
      "   md5   : 4b0d764721554b55db8131891ec7acad\n",
      "   sha1  : 095e84e0e61c464ea170562dcf26f77a60d5dd86\n",
      "   sha256: 8c05a8370b51c8c2a44a65e67d65984f9188647c0da417f0b7875aa5d13645f0\n",
      "file:  collections-set-solution.ipynb\n",
      "   md5   : c0df521ba176804128a105077b25585b\n",
      "   sha1  : 6b5efd740f4d177ff0c2bf4b3b2e7c97b1bac5ec\n",
      "   sha256: 902a9d9fa1b276e3a7e379728f777bbb3bd124eae16a33674ae15889e36eef65\n"
     ]
    }
   ],
   "source": [
    "import hashlib\n",
    "\n",
    "for file in glob.glob('*'):\n",
    "    if os.path.isfile(file):\n",
    "        with open (file, 'rb') as infile:\n",
    "            data = infile.read()\n",
    "            hash_md5 = hashlib.md5(data).hexdigest()\n",
    "            hash_sha1 = hashlib.sha1(data).hexdigest()\n",
    "            hash_sha256 = hashlib.sha256(data).hexdigest()\n",
    "            \n",
    "            print (\"file: \", file)\n",
    "            print ('   md5   :', hash_md5)\n",
    "            print ('   sha1  :', hash_sha1)\n",
    "            print ('   sha256:', hash_sha256)\n"
   ]
  },
  {
   "cell_type": "markdown",
   "metadata": {},
   "source": [
    "#### A quick benchmark on large files\n",
    "This creates a 300M file\n",
    "```\n",
    "    dd if=\"/dev/random\" of=\"file\" bs=1M count=300\n",
    "```"
   ]
  },
  {
   "cell_type": "code",
   "execution_count": 13,
   "metadata": {},
   "outputs": [
    {
     "name": "stdout",
     "output_type": "stream",
     "text": [
      "file:  /Users/sujee/dev/sujee/sujee-dev/python/utils/data/file10\n",
      "   size 304,087,040 bytes \n",
      "   reading :  247.67 ms \n",
      "   md5   : 031fe7c15394a3c6fa82af16126ca52f\n",
      "   md5 :  447.23 ms \n",
      "   sha1   : 3c44480f8ce1677cd60f4ff0db582a4344442e83\n",
      "   sha1 :  320.03 ms \n",
      "   sha256   : 7a5829e67f9c8721fcd157af9eb382be1db983d517013fe0003cf066aa65e3db\n",
      "   sha256 :  663.06 ms \n",
      "file:  /Users/sujee/dev/sujee/sujee-dev/python/utils/data/file3\n",
      "   size 335,544,320 bytes \n",
      "   reading :  313.09 ms \n",
      "   md5   : 30aff72975e5c04141cc366364b6760b\n",
      "   md5 :  502.31 ms \n",
      "   sha1   : 36d6b5490e2c8fdbbdace7007c44ac96ce51045e\n",
      "   sha1 :  327.75 ms \n",
      "   sha256   : 87d2b2ccb85c7789bc6cc078cb4b834beb7ab3f887b0c668893b50b7e8809db7\n",
      "   sha256 :  744.09 ms \n",
      "file:  /Users/sujee/dev/sujee/sujee-dev/python/utils/data/file4\n",
      "   size 330,301,440 bytes \n",
      "   reading :  285.46 ms \n",
      "   md5   : e2c49ae83e8caacafb24174d649e59c3\n",
      "   md5 :  519.11 ms \n",
      "   sha1   : eb17b1ae3728be1ee5add8a62f517dfa9077e06c\n",
      "   sha1 :  351.29 ms \n",
      "   sha256   : c39c0de8088419602adc2cff51cc960d25adb5afc261853dccbc08427ddf3a91\n",
      "   sha256 :  786.67 ms \n",
      "file:  /Users/sujee/dev/sujee/sujee-dev/python/utils/data/file5\n",
      "   size 517,996,544 bytes \n",
      "   reading :  579.82 ms \n",
      "   md5   : b081a5d3197bb6ab2bfca0337bf3df01\n",
      "   md5 :  824.07 ms \n",
      "   sha1   : a62c91dd7630fb3c6c3c31aeb01fbcc1fbb093dd\n",
      "   sha1 :  557.92 ms \n",
      "   sha256   : fbc0075e62b24c59d3c298ae3e54912f9634f26a9c2ae3d079a32c78b63917f9\n",
      "   sha256 :  1,223.78 ms \n",
      "file:  /Users/sujee/dev/sujee/sujee-dev/python/utils/data/file2\n",
      "   size 475,004,928 bytes \n",
      "   reading :  562.88 ms \n",
      "   md5   : cea54747670729fac88ab7c4626520f1\n",
      "   md5 :  764.76 ms \n",
      "   sha1   : eda7f700cd0baf800c35b84b61eb5ebcec5c3cc4\n",
      "   sha1 :  507.49 ms \n",
      "   sha256   : 0066e0cb6e7d7c3b968161d27c86379f8c921ee2d7efaa39699ac9d1c5e54fbd\n",
      "   sha256 :  1,111.93 ms \n",
      "file:  /Users/sujee/dev/sujee/sujee-dev/python/utils/data/file7\n",
      "   size 421,527,552 bytes \n",
      "   reading :  349.79 ms \n",
      "   md5   : 91c88edeeb3c64269b8b19457f38f798\n",
      "   md5 :  669.87 ms \n",
      "   sha1   : f4124cab761f8a8ba9cbe202f175a9ed24438f21\n",
      "   sha1 :  438.45 ms \n",
      "   sha256   : 3b5a53216eee5e5d3735378618f6a7a28e07d69db25bc5f5bbad79e472835ae2\n",
      "   sha256 :  958.06 ms \n",
      "file:  /Users/sujee/dev/sujee/sujee-dev/python/utils/data/file9\n",
      "   size 331,350,016 bytes \n",
      "   reading :  283.72 ms \n",
      "   md5   : 807f85b5035f3f2f06a9f00ce44a620e\n",
      "   md5 :  529.45 ms \n",
      "   sha1   : 1522f31343cf83744a093c01dc3a1341684fb28a\n",
      "   sha1 :  354.45 ms \n",
      "   sha256   : bc9d9ec02c54c691742aa72a946f9b79c5bf682642e77321f4651d0f846c5a4c\n",
      "   sha256 :  757.53 ms \n",
      "file:  /Users/sujee/dev/sujee/sujee-dev/python/utils/data/file8\n",
      "   size 394,264,576 bytes \n",
      "   reading :  324.85 ms \n",
      "   md5   : 848af395a17befa3b4cd20e3395c3be7\n",
      "   md5 :  577.33 ms \n",
      "   sha1   : c3e7cf8c670d6a067169e74c2ad5a1a8b75aa553\n",
      "   sha1 :  414.41 ms \n",
      "   sha256   : b0d762c66635ff8bea696ec1e2c98b214cf8cd229ea351016f0b2b8dc4607b09\n",
      "   sha256 :  881.77 ms \n",
      "file:  /Users/sujee/dev/sujee/sujee-dev/python/utils/data/file1\n",
      "   size 306,184,192 bytes \n",
      "   reading :  273.00 ms \n",
      "   md5   : 95f6d0469b0ea7c58f9d3110ec99c15f\n",
      "   md5 :  455.32 ms \n",
      "   sha1   : 18b529c3e408b84cdb6e909e04a2001d07c76351\n",
      "   sha1 :  322.43 ms \n",
      "   sha256   : f0433a76cf58c7ea6246399d8a7adaee392d4747604fd6a7801959493983adac\n",
      "   sha256 :  666.02 ms \n",
      "file:  /Users/sujee/dev/sujee/sujee-dev/python/utils/data/file6\n",
      "   size 400,556,032 bytes \n",
      "   reading :  342.70 ms \n",
      "   md5   : cd26aff6653b3856c6083dd13cc38b30\n",
      "   md5 :  635.31 ms \n",
      "   sha1   : 36ae0b613cf71a755c453fa52e6a2ea6a2611b79\n",
      "   sha1 :  436.84 ms \n",
      "   sha256   : 04da8250625afad01c39f50ff93d9064d2fb43219eec47268a0d54c037a9f132\n",
      "   sha256 :  948.57 ms \n"
     ]
    }
   ],
   "source": [
    "import os\n",
    "import hashlib\n",
    "import time\n",
    "import glob\n",
    "\n",
    "dir_with_bigfiles='/Users/sujee/dev/sujee/sujee-dev/python/utils/data'\n",
    "\n",
    "for file in glob.glob(dir_with_bigfiles + '/*'):\n",
    "    if os.path.isfile(file):\n",
    "        meta = os.stat(file)\n",
    "        with open (file, 'rb') as infile:\n",
    "            print (\"file: \", file)\n",
    "            print ('   size {:,} bytes '.format(meta.st_size))\n",
    "            \n",
    "            t1 = time.perf_counter()\n",
    "            data = infile.read()\n",
    "            t2 = time.perf_counter()\n",
    "            print (\"   reading :  {:,.2f} ms \".format( (t2-t1)*1000))\n",
    "            \n",
    "            t1 = time.perf_counter()\n",
    "            hash_md5 = hashlib.md5(data).hexdigest()\n",
    "            t2 = time.perf_counter()\n",
    "            print ('   md5   :', hash_md5)\n",
    "            print (\"   md5 :  {:,.2f} ms \".format( (t2-t1)*1000))\n",
    "            \n",
    "            t1 = time.perf_counter()\n",
    "            hash_sha1 = hashlib.sha1(data).hexdigest()\n",
    "            t2 = time.perf_counter()\n",
    "            print ('   sha1   :', hash_sha1)\n",
    "            print (\"   sha1 :  {:,.2f} ms \".format( (t2-t1)*1000))\n",
    "        \n",
    "            t1 = time.perf_counter()\n",
    "            hash_sha256 = hashlib.sha256(data).hexdigest()\n",
    "            t2 = time.perf_counter()\n",
    "            print ('   sha256   :', hash_sha256)\n",
    "            print (\"   sha256 :  {:,.2f} ms \".format( (t2-t1)*1000))\n",
    "            "
   ]
  },
  {
   "cell_type": "code",
   "execution_count": 14,
   "metadata": {},
   "outputs": [
    {
     "name": "stdout",
     "output_type": "stream",
     "text": [
      "file:  /tmp/data\n",
      "   size 1,048,576,000 bytes \n",
      "   reading :  1,063.27 ms \n",
      "   md5   : 441834e4cc1917c9e2daa8adbc5535b7\n",
      "   md5 :  1,690.46 ms \n",
      "   sha1   : ff2aa87f2da0e98a86f7f6dac73a01d23523bfad\n",
      "   sha1 :  1,142.32 ms \n",
      "   sha256   : 6338be47d868df12e586da24d8cb43765984fbc00124690244369c7854ca0b5b\n",
      "   sha256 :  2,353.85 ms \n"
     ]
    }
   ],
   "source": [
    "import os\n",
    "import hashlib\n",
    "import time\n",
    "\n",
    "file='/tmp/data'\n",
    "\n",
    "with open (file, 'rb') as infile:\n",
    "    meta = os.stat(file)\n",
    "    print (\"file: \", file)\n",
    "    print ('   size {:,} bytes '.format(meta.st_size))\n",
    "\n",
    "    t1 = time.perf_counter()\n",
    "    data = infile.read()\n",
    "    t2 = time.perf_counter()\n",
    "    print (\"   reading :  {:,.2f} ms \".format( (t2-t1)*1000))\n",
    "\n",
    "    t1 = time.perf_counter()\n",
    "    hash_md5 = hashlib.md5(data).hexdigest()\n",
    "    t2 = time.perf_counter()\n",
    "    print ('   md5   :', hash_md5)\n",
    "    print (\"   md5 :  {:,.2f} ms \".format( (t2-t1)*1000))\n",
    "\n",
    "    t1 = time.perf_counter()\n",
    "    hash_sha1 = hashlib.sha1(data).hexdigest()\n",
    "    t2 = time.perf_counter()\n",
    "    print ('   sha1   :', hash_sha1)\n",
    "    print (\"   sha1 :  {:,.2f} ms \".format( (t2-t1)*1000))\n",
    "\n",
    "    t1 = time.perf_counter()\n",
    "    hash_sha256 = hashlib.sha256(data).hexdigest()\n",
    "    t2 = time.perf_counter()\n",
    "    print ('   sha256   :', hash_sha256)\n",
    "    print (\"   sha256 :  {:,.2f} ms \".format( (t2-t1)*1000))\n"
   ]
  },
  {
   "cell_type": "markdown",
   "metadata": {},
   "source": [
    "### B8: Identify duplicate files in a directory"
   ]
  },
  {
   "cell_type": "code",
   "execution_count": 15,
   "metadata": {},
   "outputs": [
    {
     "name": "stdout",
     "output_type": "stream",
     "text": [
      "file:  ../../data/dupe-data/f4\n",
      "file:  ../../data/dupe-data/f3\n",
      "file:  ../../data/dupe-data/f2\n",
      "file:  ../../data/dupe-data/f5\n",
      "  files '../../data/dupe-data/f5' and '../../data/dupe-data/f4' are dupes\n",
      "file:  ../../data/dupe-data/f1\n",
      "  files '../../data/dupe-data/f1' and '../../data/dupe-data/f3' are dupes\n"
     ]
    }
   ],
   "source": [
    "import os\n",
    "import hashlib\n",
    "import glob\n",
    "\n",
    "file_hashes = {}\n",
    "for file in glob.glob('../../data/dupe-data/*'):\n",
    "    if os.path.isfile(file):\n",
    "        meta = os.stat(file)\n",
    "        with open (file, 'rb') as infile:\n",
    "            print (\"file: \", file)\n",
    "            \n",
    "            data = infile.read()\n",
    "            hash_md5 = hashlib.md5(data).hexdigest()\n",
    "            \n",
    "            if hash_md5 in file_hashes:\n",
    "                print(\"  files '{}' and '{}' are dupes\".format(file,  file_hashes[hash_md5]))\n",
    "            else:\n",
    "                file_hashes[hash_md5] = file\n"
   ]
  },
  {
   "cell_type": "code",
   "execution_count": null,
   "metadata": {
    "collapsed": true
   },
   "outputs": [],
   "source": []
  }
 ],
 "metadata": {
  "kernelspec": {
   "display_name": "Python 3",
   "language": "python",
   "name": "python3"
  },
  "language_info": {
   "codemirror_mode": {
    "name": "ipython",
    "version": 3
   },
   "file_extension": ".py",
   "mimetype": "text/x-python",
   "name": "python",
   "nbconvert_exporter": "python",
   "pygments_lexer": "ipython3",
   "version": "3.6.3"
  }
 },
 "nbformat": 4,
 "nbformat_minor": 2
}
