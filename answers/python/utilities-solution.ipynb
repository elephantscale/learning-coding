{
 "cells": [
  {
   "cell_type": "markdown",
   "metadata": {},
   "source": [
    "# Utilities Answer - Python\n",
    "\n",
    "## Easy"
   ]
  },
  {
   "cell_type": "markdown",
   "metadata": {},
   "source": [
    "### A1 - generate a random number between 1 and 100"
   ]
  },
  {
   "cell_type": "code",
   "execution_count": 1,
   "metadata": {},
   "outputs": [
    {
     "name": "stdout",
     "output_type": "stream",
     "text": [
      "7\n"
     ]
    }
   ],
   "source": [
    "import random\n",
    "\n",
    "print (random.randint(1,100))"
   ]
  },
  {
   "cell_type": "markdown",
   "metadata": {},
   "source": [
    "### A2 - generate 10 random numbers between 1 and 100"
   ]
  },
  {
   "cell_type": "code",
   "execution_count": 2,
   "metadata": {},
   "outputs": [
    {
     "name": "stdout",
     "output_type": "stream",
     "text": [
      "1 86\n",
      "2 50\n",
      "3 9\n",
      "4 49\n",
      "5 14\n",
      "6 84\n",
      "7 49\n",
      "8 1\n",
      "9 7\n"
     ]
    }
   ],
   "source": [
    "import random\n",
    "\n",
    "for i in range(1,10):\n",
    "    print(i, random.randint(1,100))"
   ]
  },
  {
   "cell_type": "code",
   "execution_count": 3,
   "metadata": {},
   "outputs": [
    {
     "name": "stdout",
     "output_type": "stream",
     "text": [
      "[86, 93, 31, 72, 13, 74, 90, 54, 82, 95, 31, 6, 8, 25, 29, 96, 33, 98, 79, 50, 24, 58, 19, 80, 65, 31, 22, 90, 75, 45, 73, 6, 74, 24, 43, 87, 10, 3, 93, 21, 81, 8, 6, 56, 52, 67, 64, 14, 15, 24, 76, 58, 47, 55, 79, 30, 87, 34, 64, 56, 8, 99, 55, 51, 1, 19, 82, 99, 7, 92, 88, 80, 19, 5, 65, 11, 26, 89, 81, 45, 2, 16, 66, 27, 71, 19, 15, 17, 2, 29, 80, 33, 45, 54, 79, 51, 58, 7, 35, 41]\n"
     ]
    }
   ],
   "source": [
    "# get some random numbers\n",
    "import random\n",
    "\n",
    "a = [random.randrange(1,101,1) for _ in range (100)]\n",
    "print(a)"
   ]
  },
  {
   "cell_type": "markdown",
   "metadata": {
    "collapsed": true
   },
   "source": [
    "## String"
   ]
  },
  {
   "cell_type": "markdown",
   "metadata": {},
   "source": [
    "### B1 - compute the hash functions md5 and sha1 of a string"
   ]
  },
  {
   "cell_type": "code",
   "execution_count": 4,
   "metadata": {},
   "outputs": [
    {
     "name": "stdout",
     "output_type": "stream",
     "text": [
      "5eb63bbbe01eeed093cb22bb8f5acdc3\n"
     ]
    }
   ],
   "source": [
    "import hashlib\n",
    "s1 = 'hello world'\n",
    "print(hashlib.md5(s1.encode('utf-8')).hexdigest())"
   ]
  },
  {
   "cell_type": "code",
   "execution_count": null,
   "metadata": {
    "collapsed": true
   },
   "outputs": [],
   "source": []
  }
 ],
 "metadata": {
  "kernelspec": {
   "display_name": "Python 3",
   "language": "python",
   "name": "python3"
  },
  "language_info": {
   "codemirror_mode": {
    "name": "ipython",
    "version": 3
   },
   "file_extension": ".py",
   "mimetype": "text/x-python",
   "name": "python",
   "nbconvert_exporter": "python",
   "pygments_lexer": "ipython3",
   "version": "3.6.3"
  }
 },
 "nbformat": 4,
 "nbformat_minor": 2
}
